{
 "cells": [
  {
   "cell_type": "code",
   "execution_count": 3,
   "metadata": {},
   "outputs": [],
   "source": [
    "import pandas as pd "
   ]
  },
  {
   "cell_type": "code",
   "execution_count": 4,
   "metadata": {},
   "outputs": [],
   "source": [
    "df = pd.read_csv('example/descriptors.csv')"
   ]
  },
  {
   "cell_type": "code",
   "execution_count": 5,
   "metadata": {},
   "outputs": [],
   "source": [
    "\n",
    "to_drop = [\n",
    "    \"function_id\",\n",
    "    \"graph_id\",\n",
    "    \"edge_source\",\n",
    "    \"edge_dest\",\n",
    "    \"is_causal\",\n",
    "]\n",
    "\n",
    "rocs = {}\n",
    "for function_id in df[\"function_id\"].unique():\n",
    "    testing_set = df[df[\"function_id\"] == function_id]\n",
    "    training_set = df[df[\"function_id\"] != function_id]\n",
    "\n",
    "    X_train = training_set.drop(columns=to_drop)\n",
    "    y_train = training_set[\"is_causal\"]\n",
    "\n",
    "    X_test = testing_set.drop(columns=to_drop)\n",
    "\n",
    "    y_test = testing_set[\"is_causal\"]\n",
    "\n",
    "    from sklearn.ensemble import RandomForestClassifier\n",
    "\n",
    "    clf = RandomForestClassifier(n_estimators=100, random_state=42)\n",
    "\n",
    "    clf.fit(X_train, y_train)\n",
    "\n",
    "    y_pred = clf.predict(X_test)\n",
    "    y_pred_proba = clf.predict_proba(X_test)[:, 1]\n",
    "\n",
    "    from sklearn.metrics import roc_auc_score\n",
    "\n",
    "    rocs[function_id] = roc_auc_score(y_test, y_pred_proba)"
   ]
  },
  {
   "cell_type": "code",
   "execution_count": 6,
   "metadata": {},
   "outputs": [
    {
     "data": {
      "text/plain": [
       "{'linear': 0.8885278313139009,\n",
       " 'polynomial': 0.9068962513578325,\n",
       " 'sigmoid': 0.8759153241911863,\n",
       " 'nonlinear': 0.8425314212052852,\n",
       " 'interaction': 0.7921465272856131}"
      ]
     },
     "execution_count": 6,
     "metadata": {},
     "output_type": "execute_result"
    }
   ],
   "source": [
    "rocs"
   ]
  }
 ],
 "metadata": {
  "kernelspec": {
   "display_name": "td2c-qBinhRvk-py3.10",
   "language": "python",
   "name": "python3"
  },
  "language_info": {
   "codemirror_mode": {
    "name": "ipython",
    "version": 3
   },
   "file_extension": ".py",
   "mimetype": "text/x-python",
   "name": "python",
   "nbconvert_exporter": "python",
   "pygments_lexer": "ipython3",
   "version": "3.10.10"
  }
 },
 "nbformat": 4,
 "nbformat_minor": 2
}
